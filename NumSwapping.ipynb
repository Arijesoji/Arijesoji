{
  "nbformat": 4,
  "nbformat_minor": 0,
  "metadata": {
    "colab": {
      "provenance": [],
      "authorship_tag": "ABX9TyNlWOOkNHQ/J27hP2TgrPZe",
      "include_colab_link": true
    },
    "kernelspec": {
      "name": "python3",
      "display_name": "Python 3"
    },
    "language_info": {
      "name": "python"
    }
  },
  "cells": [
    {
      "cell_type": "markdown",
      "metadata": {
        "id": "view-in-github",
        "colab_type": "text"
      },
      "source": [
        "<a href=\"https://colab.research.google.com/github/Arijesoji/Arijesoji/blob/main/NumSwapping.ipynb\" target=\"_parent\"><img src=\"https://colab.research.google.com/assets/colab-badge.svg\" alt=\"Open In Colab\"/></a>"
      ]
    },
    {
      "cell_type": "code",
      "execution_count": 4,
      "metadata": {
        "colab": {
          "base_uri": "https://localhost:8080/"
        },
        "id": "FHpHQJofOuCJ",
        "outputId": "5be8ba47-4a4b-4a30-e186-1a5de7ee683c"
      },
      "outputs": [
        {
          "output_type": "stream",
          "name": "stdout",
          "text": [
            "Insert the 1st number: 25\n",
            "Insert the 2nd number: 82\n",
            "Before swapping: num1 = 25.0, num2 = 82.0\n",
            "After swapping: num1 = 82.0, num2 = 25.0\n"
          ]
        }
      ],
      "source": [
        "def swap_numbers():\n",
        "    # Get user input\n",
        "    try:\n",
        "        num1 = float(input(\"Insert the 1st number: \"))\n",
        "        num2 = float(input(\"Insert the 2nd number: \"))\n",
        "    except ValueError:\n",
        "        print(\"Invalid input. Please enter a number.\")\n",
        "        return\n",
        "\n",
        "    # Display numbers before swapping\n",
        "    print(f\"Before swapping: num1 = {num1}, num2 = {num2}\")\n",
        "\n",
        "    # Swap numbers using tuple unpacking\n",
        "    num1, num2 = num2, num1\n",
        "    # Display numbers after swapping\n",
        "    print(f\"After swapping: num1 = {num1}, num2 = {num2}\")\n",
        "\n",
        "if __name__ == \"__main__\":\n",
        "    swap_numbers()\n"
      ]
    }
  ]
}