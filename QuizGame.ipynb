{
  "cells": [
    {
      "cell_type": "markdown",
      "metadata": {
        "id": "view-in-github",
        "colab_type": "text"
      },
      "source": [
        "<a href=\"https://colab.research.google.com/github/Arijesoji/Arijesoji/blob/main/QuizGame.ipynb\" target=\"_parent\"><img src=\"https://colab.research.google.com/assets/colab-badge.svg\" alt=\"Open In Colab\"/></a>"
      ]
    },
    {
      "cell_type": "code",
      "execution_count": 11,
      "metadata": {
        "colab": {
          "base_uri": "https://localhost:8080/"
        },
        "id": "Vn5KalK_DWPG",
        "outputId": "89e2c8e8-d1ef-4ff1-c2b7-366b29cd1026"
      },
      "outputs": [
        {
          "output_type": "stream",
          "name": "stdout",
          "text": [
            "\n",
            "Question 1: Who is the President of Nigeria?\n",
            "Your answer: bola tinubu\n",
            "Correct!\n",
            "\n",
            "Question 2: What is the Capital of Nigeria'?\n",
            "Your answer: lagos\n",
            "Incorrect. The correct answer is abuja.\n",
            "\n",
            "Question 3: Which state is UNILAG locate'?\n",
            "Your answer: lagos\n",
            "Correct!\n",
            "\n",
            "Question 4: What is Nigeria's highest export product?\n",
            "Your answer: crude oil\n",
            "Correct!\n",
            "\n",
            "Question 5: Which Nigerian Musician is known as OBO?\n",
            "Your answer: davido\n",
            "Correct!\n",
            "\n",
            "Quiz finished! Your final score is 4 out of 5.\n"
          ]
        }
      ],
      "source": [
        "# Quiz Game\n",
        "# Questions and answers stored in a list of dictionaries\n",
        "quiz_questions = [\n",
        "    {\n",
        "        \"question\": \"Who is the President of Nigeria?\",\n",
        "        \"answer\": \"bola tinubu\"\n",
        "    },\n",
        "    {\n",
        "        \"question\": \"What is the Capital of Nigeria'?\",\n",
        "        \"answer\": \"abuja\"\n",
        "    },\n",
        "    {\n",
        "        \"question\": \"Which state is UNILAG locate'?\",\n",
        "        \"answer\": \"lagos\"\n",
        "    },\n",
        "    {\n",
        "        \"question\": \"What is Nigeria's highest export product?\",\n",
        "        \"answer\": \"crude oil\"\n",
        "    },\n",
        "    {\n",
        "        \"question\": \"Which Nigerian Musician is known as OBO?\",\n",
        "        \"answer\": \"davido\"\n",
        "    }\n",
        "]\n",
        "\n",
        "def quiz_game():\n",
        "    score = 0\n",
        "    for i, question in enumerate(quiz_questions):\n",
        "        print(f\"\\nQuestion {i+1}: {question['question']}\")\n",
        "        user_answer = input(\"Your answer: \").lower()\n",
        "        if user_answer == question['answer']:\n",
        "            print(\"Correct!\")\n",
        "            score += 1\n",
        "        else:\n",
        "            print(f\"Incorrect. The correct answer is {question['answer']}.\")\n",
        "    print(f\"\\nQuiz finished! Your final score is {score} out of {len(quiz_questions)}.\")\n",
        "if __name__ == \"__main__\":\n",
        "    quiz_game()\n",
        "\n",
        "\n",
        "\n"
      ]
    }
  ],
  "metadata": {
    "colab": {
      "provenance": [],
      "authorship_tag": "ABX9TyNDJl0zB9rt3jQQ3DgkEsNC",
      "include_colab_link": true
    },
    "kernelspec": {
      "display_name": "Python 3",
      "name": "python3"
    },
    "language_info": {
      "name": "python"
    }
  },
  "nbformat": 4,
  "nbformat_minor": 0
}